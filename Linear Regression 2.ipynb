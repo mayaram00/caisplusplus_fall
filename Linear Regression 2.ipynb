{
 "cells": [
  {
   "cell_type": "code",
   "execution_count": 1,
   "metadata": {
    "collapsed": true
   },
   "outputs": [],
   "source": [
    "import pandas as pd"
   ]
  },
  {
   "cell_type": "code",
   "execution_count": 25,
   "metadata": {
    "collapsed": true
   },
   "outputs": [],
   "source": [
    "headers = ['mpg', 'cylinders', 'displacement', 'horsepower', 'weight', 'acceleration' \\\n",
    "          'year', 'origin', 'name']"
   ]
  },
  {
   "cell_type": "code",
   "execution_count": 26,
   "metadata": {},
   "outputs": [],
   "source": [
    "mpg_df = pd.read_csv('auto-mpg.data.txt', names=headers, delim_whitespace=True)"
   ]
  },
  {
   "cell_type": "code",
   "execution_count": 27,
   "metadata": {
    "scrolled": true
   },
   "outputs": [
    {
     "data": {
      "text/html": [
       "<div>\n",
       "<style>\n",
       "    .dataframe thead tr:only-child th {\n",
       "        text-align: right;\n",
       "    }\n",
       "\n",
       "    .dataframe thead th {\n",
       "        text-align: left;\n",
       "    }\n",
       "\n",
       "    .dataframe tbody tr th {\n",
       "        vertical-align: top;\n",
       "    }\n",
       "</style>\n",
       "<table border=\"1\" class=\"dataframe\">\n",
       "  <thead>\n",
       "    <tr style=\"text-align: right;\">\n",
       "      <th></th>\n",
       "      <th>mpg</th>\n",
       "      <th>cylinders</th>\n",
       "      <th>displacement</th>\n",
       "      <th>horsepower</th>\n",
       "      <th>weight</th>\n",
       "      <th>accelerationyear</th>\n",
       "      <th>origin</th>\n",
       "      <th>name</th>\n",
       "    </tr>\n",
       "  </thead>\n",
       "  <tbody>\n",
       "    <tr>\n",
       "      <th>18.0</th>\n",
       "      <td>8</td>\n",
       "      <td>307.0</td>\n",
       "      <td>130.0</td>\n",
       "      <td>3504.0</td>\n",
       "      <td>12.0</td>\n",
       "      <td>70</td>\n",
       "      <td>1</td>\n",
       "      <td>chevrolet chevelle malibu</td>\n",
       "    </tr>\n",
       "    <tr>\n",
       "      <th>15.0</th>\n",
       "      <td>8</td>\n",
       "      <td>350.0</td>\n",
       "      <td>165.0</td>\n",
       "      <td>3693.0</td>\n",
       "      <td>11.5</td>\n",
       "      <td>70</td>\n",
       "      <td>1</td>\n",
       "      <td>buick skylark 320</td>\n",
       "    </tr>\n",
       "    <tr>\n",
       "      <th>18.0</th>\n",
       "      <td>8</td>\n",
       "      <td>318.0</td>\n",
       "      <td>150.0</td>\n",
       "      <td>3436.0</td>\n",
       "      <td>11.0</td>\n",
       "      <td>70</td>\n",
       "      <td>1</td>\n",
       "      <td>plymouth satellite</td>\n",
       "    </tr>\n",
       "    <tr>\n",
       "      <th>16.0</th>\n",
       "      <td>8</td>\n",
       "      <td>304.0</td>\n",
       "      <td>150.0</td>\n",
       "      <td>3433.0</td>\n",
       "      <td>12.0</td>\n",
       "      <td>70</td>\n",
       "      <td>1</td>\n",
       "      <td>amc rebel sst</td>\n",
       "    </tr>\n",
       "    <tr>\n",
       "      <th>17.0</th>\n",
       "      <td>8</td>\n",
       "      <td>302.0</td>\n",
       "      <td>140.0</td>\n",
       "      <td>3449.0</td>\n",
       "      <td>10.5</td>\n",
       "      <td>70</td>\n",
       "      <td>1</td>\n",
       "      <td>ford torino</td>\n",
       "    </tr>\n",
       "  </tbody>\n",
       "</table>\n",
       "</div>"
      ],
      "text/plain": [
       "      mpg  cylinders displacement  horsepower  weight  accelerationyear  \\\n",
       "18.0    8      307.0        130.0      3504.0    12.0                70   \n",
       "15.0    8      350.0        165.0      3693.0    11.5                70   \n",
       "18.0    8      318.0        150.0      3436.0    11.0                70   \n",
       "16.0    8      304.0        150.0      3433.0    12.0                70   \n",
       "17.0    8      302.0        140.0      3449.0    10.5                70   \n",
       "\n",
       "      origin                       name  \n",
       "18.0       1  chevrolet chevelle malibu  \n",
       "15.0       1          buick skylark 320  \n",
       "18.0       1         plymouth satellite  \n",
       "16.0       1              amc rebel sst  \n",
       "17.0       1                ford torino  "
      ]
     },
     "execution_count": 27,
     "metadata": {},
     "output_type": "execute_result"
    }
   ],
   "source": [
    "mpg_df.head()"
   ]
  },
  {
   "cell_type": "code",
   "execution_count": 28,
   "metadata": {
    "collapsed": true
   },
   "outputs": [],
   "source": [
    "mpg_df = mpg_df.drop('name', axis=1)"
   ]
  },
  {
   "cell_type": "code",
   "execution_count": 30,
   "metadata": {},
   "outputs": [
    {
     "data": {
      "text/html": [
       "<div>\n",
       "<style>\n",
       "    .dataframe thead tr:only-child th {\n",
       "        text-align: right;\n",
       "    }\n",
       "\n",
       "    .dataframe thead th {\n",
       "        text-align: left;\n",
       "    }\n",
       "\n",
       "    .dataframe tbody tr th {\n",
       "        vertical-align: top;\n",
       "    }\n",
       "</style>\n",
       "<table border=\"1\" class=\"dataframe\">\n",
       "  <thead>\n",
       "    <tr style=\"text-align: right;\">\n",
       "      <th></th>\n",
       "      <th>mpg</th>\n",
       "      <th>cylinders</th>\n",
       "      <th>displacement</th>\n",
       "      <th>horsepower</th>\n",
       "      <th>weight</th>\n",
       "      <th>accelerationyear</th>\n",
       "      <th>origin_america</th>\n",
       "      <th>origin_asia</th>\n",
       "      <th>origin_europe</th>\n",
       "    </tr>\n",
       "  </thead>\n",
       "  <tbody>\n",
       "    <tr>\n",
       "      <th>18.0</th>\n",
       "      <td>8</td>\n",
       "      <td>307.0</td>\n",
       "      <td>130.0</td>\n",
       "      <td>3504.0</td>\n",
       "      <td>12.0</td>\n",
       "      <td>70</td>\n",
       "      <td>1</td>\n",
       "      <td>0</td>\n",
       "      <td>0</td>\n",
       "    </tr>\n",
       "    <tr>\n",
       "      <th>15.0</th>\n",
       "      <td>8</td>\n",
       "      <td>350.0</td>\n",
       "      <td>165.0</td>\n",
       "      <td>3693.0</td>\n",
       "      <td>11.5</td>\n",
       "      <td>70</td>\n",
       "      <td>1</td>\n",
       "      <td>0</td>\n",
       "      <td>0</td>\n",
       "    </tr>\n",
       "    <tr>\n",
       "      <th>18.0</th>\n",
       "      <td>8</td>\n",
       "      <td>318.0</td>\n",
       "      <td>150.0</td>\n",
       "      <td>3436.0</td>\n",
       "      <td>11.0</td>\n",
       "      <td>70</td>\n",
       "      <td>1</td>\n",
       "      <td>0</td>\n",
       "      <td>0</td>\n",
       "    </tr>\n",
       "    <tr>\n",
       "      <th>16.0</th>\n",
       "      <td>8</td>\n",
       "      <td>304.0</td>\n",
       "      <td>150.0</td>\n",
       "      <td>3433.0</td>\n",
       "      <td>12.0</td>\n",
       "      <td>70</td>\n",
       "      <td>1</td>\n",
       "      <td>0</td>\n",
       "      <td>0</td>\n",
       "    </tr>\n",
       "    <tr>\n",
       "      <th>17.0</th>\n",
       "      <td>8</td>\n",
       "      <td>302.0</td>\n",
       "      <td>140.0</td>\n",
       "      <td>3449.0</td>\n",
       "      <td>10.5</td>\n",
       "      <td>70</td>\n",
       "      <td>1</td>\n",
       "      <td>0</td>\n",
       "      <td>0</td>\n",
       "    </tr>\n",
       "  </tbody>\n",
       "</table>\n",
       "</div>"
      ],
      "text/plain": [
       "      mpg  cylinders displacement  horsepower  weight  accelerationyear  \\\n",
       "18.0    8      307.0        130.0      3504.0    12.0                70   \n",
       "15.0    8      350.0        165.0      3693.0    11.5                70   \n",
       "18.0    8      318.0        150.0      3436.0    11.0                70   \n",
       "16.0    8      304.0        150.0      3433.0    12.0                70   \n",
       "17.0    8      302.0        140.0      3449.0    10.5                70   \n",
       "\n",
       "      origin_america  origin_asia  origin_europe  \n",
       "18.0               1            0              0  \n",
       "15.0               1            0              0  \n",
       "18.0               1            0              0  \n",
       "16.0               1            0              0  \n",
       "17.0               1            0              0  "
      ]
     },
     "execution_count": 30,
     "metadata": {},
     "output_type": "execute_result"
    }
   ],
   "source": [
    "mpg_df['origin'] = mpg_df['origin'].replace({1:'america', 2: 'europe', 3: 'asia'})\n",
    "mpg_df = pd.get_dummies(mpg_df, columns=['origin'])\n",
    "mpg_df.head()"
   ]
  },
  {
   "cell_type": "code",
   "execution_count": 31,
   "metadata": {},
   "outputs": [
    {
     "data": {
      "text/plain": [
       "array([ 3504.,  3693.,  3436.,  3433.,  3449.,  4341.,  4354.,  4312.,\n",
       "        4425.,  3850.,  3563.,  3609.,  3761.,  3086.,  2372.,  2833.,\n",
       "        2774.,  2587.,  2130.,  1835.,  2672.,  2430.,  2375.,  2234.,\n",
       "        2648.,  4615.,  4376.,  4382.,  4732.,  2264.,  2228.,  2046.,\n",
       "        2634.,  3439.,  3329.,  3302.,  3288.,  4209.,  4464.,  4154.,\n",
       "        4096.,  4955.,  4746.,  5140.,  2962.,  2408.,  3282.,  3139.,\n",
       "        2220.,  2123.,  2074.,  2065.,  1773.,  1613.,  1834.,  1955.,\n",
       "        2278.,  2126.,  2254.,  2226.,  4274.,  4385.,  4135.,  4129.,\n",
       "        3672.,  4633.,  4502.,  4456.,  4422.,  2330.,  3892.,  4098.,\n",
       "        4294.,  4077.,  2933.,  2511.,  2979.,  2189.,  2395.,  2288.,\n",
       "        2506.,  2164.,  2100.,  4100.,  3988.,  4042.,  3777.,  4952.,\n",
       "        4363.,  4237.,  4735.,  4951.,  3821.,  3121.,  3278.,  2945.,\n",
       "        3021.,  2904.,  1950.,  4997.,  4906.,  4654.,  4499.,  2789.,\n",
       "        2279.,  2401.,  2379.,  2124.,  2310.,  2472.,  2265.,  4082.,\n",
       "        4278.,  1867.,  2158.,  2582.,  2868.,  3399.,  2660.,  2807.,\n",
       "        3664.,  3102.,  2875.,  2901.,  3336.,  2451.,  1836.,  2542.,\n",
       "        3781.,  3632.,  3613.,  4141.,  4699.,  4457.,  4638.,  4257.,\n",
       "        2219.,  1963.,  2300.,  1649.,  2003.,  2125.,  2108.,  2246.,\n",
       "        2489.,  2391.,  2000.,  3264.,  3459.,  3432.,  3158.,  4668.,\n",
       "        4440.,  4498.,  4657.,  3907.,  3897.,  3730.,  3785.,  3039.,\n",
       "        3221.,  3169.,  2171.,  2639.,  2914.,  2592.,  2702.,  2223.,\n",
       "        2545.,  2984.,  1937.,  3211.,  2694.,  2957.,  2671.,  1795.,\n",
       "        2464.,  2572.,  2255.,  2202.,  4215.,  4190.,  3962.,  3233.,\n",
       "        3353.,  3012.,  3085.,  2035.,  3651.,  3574.,  3645.,  3193.,\n",
       "        1825.,  1990.,  2155.,  2565.,  3150.,  3940.,  3270.,  2930.,\n",
       "        3820.,  4380.,  4055.,  3870.,  3755.,  2045.,  1945.,  3880.,\n",
       "        4060.,  4140.,  4295.,  3520.,  3425.,  3630.,  3525.,  4220.,\n",
       "        4165.,  4325.,  4335.,  1940.,  2740.,  2755.,  2051.,  2075.,\n",
       "        1985.,  2190.,  2815.,  2600.,  2720.,  1800.,  2070.,  3365.,\n",
       "        3735.,  3570.,  3535.,  3155.,  2965.,  3430.,  3210.,  3380.,\n",
       "        3070.,  3620.,  3410.,  3445.,  3205.,  4080.,  2560.,  2230.,\n",
       "        2515.,  2745.,  2855.,  2405.,  2830.,  3140.,  2795.,  2135.,\n",
       "        3245.,  2990.,  2890.,  3265.,  3360.,  3840.,  3725.,  3955.,\n",
       "        3830.,  4360.,  4054.,  3605.,  1925.,  1975.,  1915.,  2670.,\n",
       "        3530.,  3900.,  3190.,  3420.,  2200.,  2150.,  2020.,  2595.,\n",
       "        2700.,  2556.,  2144.,  1968.,  2120.,  2019.,  2678.,  2870.,\n",
       "        3003.,  3381.,  2188.,  2711.,  2434.,  2110.,  2800.,  2085.,\n",
       "        2335.,  2950.,  3250.,  1850.,  2145.,  1845.,  2910.,  2420.,\n",
       "        2500.,  2905.,  2290.,  2490.,  2635.,  2620.,  2725.,  2385.,\n",
       "        1755.,  1875.,  1760.,  2050.,  2215.,  2380.,  2320.,  2210.,\n",
       "        2350.,  2615.,  3230.,  3160.,  2900.,  3415.,  3060.,  3465.,\n",
       "        2605.,  2640.,  2575.,  2525.,  2735.,  2865.,  3035.,  1980.,\n",
       "        2025.,  1970.,  2160.,  2205.,  2245.,  1965.,  1995.,  3015.,\n",
       "        2585.,  2835.,  2665.,  2370.,  2790.,  2295.,  2625.])"
      ]
     },
     "execution_count": 31,
     "metadata": {},
     "output_type": "execute_result"
    }
   ],
   "source": [
    "mpg_df['horsepower'].unique()"
   ]
  },
  {
   "cell_type": "code",
   "execution_count": 34,
   "metadata": {},
   "outputs": [
    {
     "data": {
      "text/plain": [
       "array([ 3504.,  3693.,  3436.,  3433.,  3449.,  4341.,  4354.,  4312.,\n",
       "        4425.,  3850.,  3563.,  3609.,  3761.,  3086.,  2372.,  2833.,\n",
       "        2774.,  2587.,  2130.,  1835.,  2672.,  2430.,  2375.,  2234.,\n",
       "        2648.,  4615.,  4376.,  4382.,  4732.,  2264.,  2228.,  2634.,\n",
       "        3439.,  3329.,  3302.,  3288.,  4209.,  4464.,  4154.,  4096.,\n",
       "        4955.,  4746.,  5140.,  2962.,  2408.,  3282.,  3139.,  2220.,\n",
       "        2123.,  2074.,  2065.,  1773.,  1613.,  1834.,  1955.,  2278.,\n",
       "        2126.,  2254.,  2226.,  4274.,  4385.,  4135.,  4129.,  3672.,\n",
       "        4633.,  4502.,  4456.,  4422.,  2330.,  3892.,  4098.,  4294.,\n",
       "        4077.,  2933.,  2511.,  2979.,  2189.,  2395.,  2288.,  2506.,\n",
       "        2164.,  2100.,  4100.,  3988.,  4042.,  3777.,  4952.,  4363.,\n",
       "        4237.,  4735.,  4951.,  3821.,  3121.,  3278.,  2945.,  3021.,\n",
       "        2904.,  1950.,  4997.,  4906.,  4654.,  4499.,  2789.,  2279.,\n",
       "        2401.,  2379.,  2124.,  2310.,  2472.,  2265.,  4082.,  4278.,\n",
       "        1867.,  2158.,  2582.,  2868.,  3399.,  2660.,  2807.,  3664.,\n",
       "        3102.,  2901.,  3336.,  2451.,  1836.,  2542.,  3781.,  3632.,\n",
       "        3613.,  4141.,  4699.,  4457.,  4638.,  4257.,  2219.,  1963.,\n",
       "        2300.,  1649.,  2003.,  2125.,  2108.,  2246.,  2489.,  2391.,\n",
       "        2000.,  3264.,  3459.,  3432.,  3158.,  4668.,  4440.,  4498.,\n",
       "        4657.,  3907.,  3897.,  3730.,  3785.,  3039.,  3221.,  3169.,\n",
       "        2171.,  2639.,  2914.,  2592.,  2702.,  2223.,  2545.,  2984.,\n",
       "        1937.,  3211.,  2694.,  2957.,  2671.,  1795.,  2464.,  2572.,\n",
       "        2255.,  2202.,  4215.,  4190.,  3962.,  3233.,  3353.,  3012.,\n",
       "        3085.,  2035.,  3651.,  3574.,  3645.,  3193.,  1825.,  1990.,\n",
       "        2155.,  2565.,  3150.,  3940.,  3270.,  2930.,  3820.,  4380.,\n",
       "        4055.,  3870.,  3755.,  2045.,  1945.,  3880.,  4060.,  4140.,\n",
       "        4295.,  3520.,  3425.,  3630.,  3525.,  4220.,  4165.,  4325.,\n",
       "        4335.,  1940.,  2740.,  2755.,  2051.,  2075.,  1985.,  2190.,\n",
       "        2815.,  2600.,  2720.,  1800.,  2070.,  3365.,  3735.,  3570.,\n",
       "        3535.,  3155.,  2965.,  3430.,  3210.,  3380.,  3070.,  3620.,\n",
       "        3410.,  3445.,  3205.,  4080.,  2560.,  2230.,  2515.,  2745.,\n",
       "        2855.,  2405.,  2830.,  3140.,  2795.,  2135.,  3245.,  2990.,\n",
       "        2890.,  3265.,  3360.,  3840.,  3725.,  3955.,  3830.,  4360.,\n",
       "        4054.,  3605.,  1925.,  1975.,  1915.,  2670.,  3530.,  3900.,\n",
       "        3190.,  3420.,  2200.,  2150.,  2020.,  2595.,  2700.,  2556.,\n",
       "        2144.,  1968.,  2120.,  2019.,  2678.,  2870.,  3003.,  3381.,\n",
       "        2188.,  2711.,  2434.,  2110.,  2800.,  2085.,  2335.,  2950.,\n",
       "        3250.,  1850.,  2145.,  1845.,  2910.,  2420.,  2500.,  2290.,\n",
       "        2490.,  2635.,  2620.,  2725.,  2385.,  1755.,  1875.,  1760.,\n",
       "        2050.,  2215.,  2380.,  2210.,  2350.,  2615.,  3230.,  3160.,\n",
       "        2900.,  3415.,  3060.,  3465.,  2605.,  2640.,  2575.,  2525.,\n",
       "        2735.,  2865.,  1980.,  2025.,  1970.,  2160.,  2205.,  2245.,\n",
       "        1965.,  1995.,  3015.,  2585.,  2835.,  2665.,  2370.,  2790.,\n",
       "        2295.,  2625.])"
      ]
     },
     "execution_count": 34,
     "metadata": {},
     "output_type": "execute_result"
    }
   ],
   "source": [
    "import numpy as np\n",
    "\n",
    "mpg_df = mpg_df.replace('?', np.nan)\n",
    "mpg_df = mpg_df.dropna()\n",
    "mpg_df['horsepower'].unique()"
   ]
  },
  {
   "cell_type": "code",
   "execution_count": 35,
   "metadata": {
    "collapsed": true
   },
   "outputs": [],
   "source": [
    "x = mpg_df.drop('mpg', axis=1)\n",
    "y = mpg_df[['mpg']]"
   ]
  },
  {
   "cell_type": "code",
   "execution_count": 38,
   "metadata": {},
   "outputs": [
    {
     "data": {
      "text/plain": [
       "LinearRegression(copy_X=True, fit_intercept=True, n_jobs=1, normalize=False)"
      ]
     },
     "execution_count": 38,
     "metadata": {},
     "output_type": "execute_result"
    }
   ],
   "source": [
    "from sklearn.linear_model import LinearRegression\n",
    "regression_model = LinearRegression()\n",
    "regression_model.fit(x,y)"
   ]
  },
  {
   "cell_type": "code",
   "execution_count": 40,
   "metadata": {},
   "outputs": [
    {
     "data": {
      "text/plain": [
       "0.27028642411369258"
      ]
     },
     "execution_count": 40,
     "metadata": {},
     "output_type": "execute_result"
    }
   ],
   "source": [
    "from sklearn.metrics import mean_squared_error\n",
    "mean_squared_error(y, regression_model.predict(x))"
   ]
  },
  {
   "cell_type": "code",
   "execution_count": null,
   "metadata": {
    "collapsed": true
   },
   "outputs": [],
   "source": []
  }
 ],
 "metadata": {
  "kernelspec": {
   "display_name": "Python 3",
   "language": "python",
   "name": "python3"
  },
  "language_info": {
   "codemirror_mode": {
    "name": "ipython",
    "version": 3
   },
   "file_extension": ".py",
   "mimetype": "text/x-python",
   "name": "python",
   "nbconvert_exporter": "python",
   "pygments_lexer": "ipython3",
   "version": "3.6.1"
  }
 },
 "nbformat": 4,
 "nbformat_minor": 2
}
