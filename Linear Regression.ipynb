{
 "cells": [
  {
   "cell_type": "code",
   "execution_count": 76,
   "metadata": {
    "collapsed": true
   },
   "outputs": [],
   "source": [
    "import numpy as np\n",
    "from sklearn.datasets import load_boston\n",
    "from sklearn import linear_model\n",
    "from sklearn.metrics import mean_squared_error\n",
    "#test\n",
    "from sklearn.model_selection import train_test_split\n",
    "import pandas as pd\n",
    "import matplotlib.pyplot as plt"
   ]
  },
  {
   "cell_type": "code",
   "execution_count": 2,
   "metadata": {
    "collapsed": true
   },
   "outputs": [],
   "source": [
    "boston = load_boston()"
   ]
  },
  {
   "cell_type": "code",
   "execution_count": 5,
   "metadata": {},
   "outputs": [
    {
     "data": {
      "text/plain": [
       "dict_keys(['data', 'target', 'feature_names', 'DESCR'])"
      ]
     },
     "execution_count": 5,
     "metadata": {},
     "output_type": "execute_result"
    }
   ],
   "source": [
    "boston.keys()"
   ]
  },
  {
   "cell_type": "code",
   "execution_count": 14,
   "metadata": {},
   "outputs": [
    {
     "data": {
      "text/plain": [
       "(506,)"
      ]
     },
     "execution_count": 14,
     "metadata": {},
     "output_type": "execute_result"
    }
   ],
   "source": [
    "data = boston.data\n",
    "target = boston.target\n",
    "#(# rows, #features)"
   ]
  },
  {
   "cell_type": "code",
   "execution_count": 16,
   "metadata": {},
   "outputs": [],
   "source": [
    "num_features = len(boston.feature_names)\n",
    "num_samples = data.shape[0]"
   ]
  },
  {
   "cell_type": "code",
   "execution_count": 22,
   "metadata": {},
   "outputs": [],
   "source": [
    "#panda stores data in a dataframe\n",
    "bos_dataframe = pd.DataFrame(boston.data)\n",
    "bos_dataframe.columns = boston.feature_names"
   ]
  },
  {
   "cell_type": "code",
   "execution_count": 23,
   "metadata": {},
   "outputs": [
    {
     "data": {
      "text/html": [
       "<div>\n",
       "<style>\n",
       "    .dataframe thead tr:only-child th {\n",
       "        text-align: right;\n",
       "    }\n",
       "\n",
       "    .dataframe thead th {\n",
       "        text-align: left;\n",
       "    }\n",
       "\n",
       "    .dataframe tbody tr th {\n",
       "        vertical-align: top;\n",
       "    }\n",
       "</style>\n",
       "<table border=\"1\" class=\"dataframe\">\n",
       "  <thead>\n",
       "    <tr style=\"text-align: right;\">\n",
       "      <th></th>\n",
       "      <th>CRIM</th>\n",
       "      <th>ZN</th>\n",
       "      <th>INDUS</th>\n",
       "      <th>CHAS</th>\n",
       "      <th>NOX</th>\n",
       "      <th>RM</th>\n",
       "      <th>AGE</th>\n",
       "      <th>DIS</th>\n",
       "      <th>RAD</th>\n",
       "      <th>TAX</th>\n",
       "      <th>PTRATIO</th>\n",
       "      <th>B</th>\n",
       "      <th>LSTAT</th>\n",
       "    </tr>\n",
       "  </thead>\n",
       "  <tbody>\n",
       "    <tr>\n",
       "      <th>0</th>\n",
       "      <td>0.00632</td>\n",
       "      <td>18.0</td>\n",
       "      <td>2.31</td>\n",
       "      <td>0.0</td>\n",
       "      <td>0.538</td>\n",
       "      <td>6.575</td>\n",
       "      <td>65.2</td>\n",
       "      <td>4.0900</td>\n",
       "      <td>1.0</td>\n",
       "      <td>296.0</td>\n",
       "      <td>15.3</td>\n",
       "      <td>396.90</td>\n",
       "      <td>4.98</td>\n",
       "    </tr>\n",
       "    <tr>\n",
       "      <th>1</th>\n",
       "      <td>0.02731</td>\n",
       "      <td>0.0</td>\n",
       "      <td>7.07</td>\n",
       "      <td>0.0</td>\n",
       "      <td>0.469</td>\n",
       "      <td>6.421</td>\n",
       "      <td>78.9</td>\n",
       "      <td>4.9671</td>\n",
       "      <td>2.0</td>\n",
       "      <td>242.0</td>\n",
       "      <td>17.8</td>\n",
       "      <td>396.90</td>\n",
       "      <td>9.14</td>\n",
       "    </tr>\n",
       "    <tr>\n",
       "      <th>2</th>\n",
       "      <td>0.02729</td>\n",
       "      <td>0.0</td>\n",
       "      <td>7.07</td>\n",
       "      <td>0.0</td>\n",
       "      <td>0.469</td>\n",
       "      <td>7.185</td>\n",
       "      <td>61.1</td>\n",
       "      <td>4.9671</td>\n",
       "      <td>2.0</td>\n",
       "      <td>242.0</td>\n",
       "      <td>17.8</td>\n",
       "      <td>392.83</td>\n",
       "      <td>4.03</td>\n",
       "    </tr>\n",
       "    <tr>\n",
       "      <th>3</th>\n",
       "      <td>0.03237</td>\n",
       "      <td>0.0</td>\n",
       "      <td>2.18</td>\n",
       "      <td>0.0</td>\n",
       "      <td>0.458</td>\n",
       "      <td>6.998</td>\n",
       "      <td>45.8</td>\n",
       "      <td>6.0622</td>\n",
       "      <td>3.0</td>\n",
       "      <td>222.0</td>\n",
       "      <td>18.7</td>\n",
       "      <td>394.63</td>\n",
       "      <td>2.94</td>\n",
       "    </tr>\n",
       "    <tr>\n",
       "      <th>4</th>\n",
       "      <td>0.06905</td>\n",
       "      <td>0.0</td>\n",
       "      <td>2.18</td>\n",
       "      <td>0.0</td>\n",
       "      <td>0.458</td>\n",
       "      <td>7.147</td>\n",
       "      <td>54.2</td>\n",
       "      <td>6.0622</td>\n",
       "      <td>3.0</td>\n",
       "      <td>222.0</td>\n",
       "      <td>18.7</td>\n",
       "      <td>396.90</td>\n",
       "      <td>5.33</td>\n",
       "    </tr>\n",
       "  </tbody>\n",
       "</table>\n",
       "</div>"
      ],
      "text/plain": [
       "      CRIM    ZN  INDUS  CHAS    NOX     RM   AGE     DIS  RAD    TAX  \\\n",
       "0  0.00632  18.0   2.31   0.0  0.538  6.575  65.2  4.0900  1.0  296.0   \n",
       "1  0.02731   0.0   7.07   0.0  0.469  6.421  78.9  4.9671  2.0  242.0   \n",
       "2  0.02729   0.0   7.07   0.0  0.469  7.185  61.1  4.9671  2.0  242.0   \n",
       "3  0.03237   0.0   2.18   0.0  0.458  6.998  45.8  6.0622  3.0  222.0   \n",
       "4  0.06905   0.0   2.18   0.0  0.458  7.147  54.2  6.0622  3.0  222.0   \n",
       "\n",
       "   PTRATIO       B  LSTAT  \n",
       "0     15.3  396.90   4.98  \n",
       "1     17.8  396.90   9.14  \n",
       "2     17.8  392.83   4.03  \n",
       "3     18.7  394.63   2.94  \n",
       "4     18.7  396.90   5.33  "
      ]
     },
     "execution_count": 23,
     "metadata": {},
     "output_type": "execute_result"
    }
   ],
   "source": [
    "bos_dataframe.head()"
   ]
  },
  {
   "cell_type": "code",
   "execution_count": 24,
   "metadata": {},
   "outputs": [
    {
     "data": {
      "text/html": [
       "<div>\n",
       "<style>\n",
       "    .dataframe thead tr:only-child th {\n",
       "        text-align: right;\n",
       "    }\n",
       "\n",
       "    .dataframe thead th {\n",
       "        text-align: left;\n",
       "    }\n",
       "\n",
       "    .dataframe tbody tr th {\n",
       "        vertical-align: top;\n",
       "    }\n",
       "</style>\n",
       "<table border=\"1\" class=\"dataframe\">\n",
       "  <thead>\n",
       "    <tr style=\"text-align: right;\">\n",
       "      <th></th>\n",
       "      <th>CRIM</th>\n",
       "      <th>ZN</th>\n",
       "      <th>INDUS</th>\n",
       "      <th>CHAS</th>\n",
       "      <th>NOX</th>\n",
       "      <th>RM</th>\n",
       "      <th>AGE</th>\n",
       "      <th>DIS</th>\n",
       "      <th>RAD</th>\n",
       "      <th>TAX</th>\n",
       "      <th>PTRATIO</th>\n",
       "      <th>B</th>\n",
       "      <th>LSTAT</th>\n",
       "    </tr>\n",
       "  </thead>\n",
       "  <tbody>\n",
       "    <tr>\n",
       "      <th>count</th>\n",
       "      <td>506.000000</td>\n",
       "      <td>506.000000</td>\n",
       "      <td>506.000000</td>\n",
       "      <td>506.000000</td>\n",
       "      <td>506.000000</td>\n",
       "      <td>506.000000</td>\n",
       "      <td>506.000000</td>\n",
       "      <td>506.000000</td>\n",
       "      <td>506.000000</td>\n",
       "      <td>506.000000</td>\n",
       "      <td>506.000000</td>\n",
       "      <td>506.000000</td>\n",
       "      <td>506.000000</td>\n",
       "    </tr>\n",
       "    <tr>\n",
       "      <th>mean</th>\n",
       "      <td>3.593761</td>\n",
       "      <td>11.363636</td>\n",
       "      <td>11.136779</td>\n",
       "      <td>0.069170</td>\n",
       "      <td>0.554695</td>\n",
       "      <td>6.284634</td>\n",
       "      <td>68.574901</td>\n",
       "      <td>3.795043</td>\n",
       "      <td>9.549407</td>\n",
       "      <td>408.237154</td>\n",
       "      <td>18.455534</td>\n",
       "      <td>356.674032</td>\n",
       "      <td>12.653063</td>\n",
       "    </tr>\n",
       "    <tr>\n",
       "      <th>std</th>\n",
       "      <td>8.596783</td>\n",
       "      <td>23.322453</td>\n",
       "      <td>6.860353</td>\n",
       "      <td>0.253994</td>\n",
       "      <td>0.115878</td>\n",
       "      <td>0.702617</td>\n",
       "      <td>28.148861</td>\n",
       "      <td>2.105710</td>\n",
       "      <td>8.707259</td>\n",
       "      <td>168.537116</td>\n",
       "      <td>2.164946</td>\n",
       "      <td>91.294864</td>\n",
       "      <td>7.141062</td>\n",
       "    </tr>\n",
       "    <tr>\n",
       "      <th>min</th>\n",
       "      <td>0.006320</td>\n",
       "      <td>0.000000</td>\n",
       "      <td>0.460000</td>\n",
       "      <td>0.000000</td>\n",
       "      <td>0.385000</td>\n",
       "      <td>3.561000</td>\n",
       "      <td>2.900000</td>\n",
       "      <td>1.129600</td>\n",
       "      <td>1.000000</td>\n",
       "      <td>187.000000</td>\n",
       "      <td>12.600000</td>\n",
       "      <td>0.320000</td>\n",
       "      <td>1.730000</td>\n",
       "    </tr>\n",
       "    <tr>\n",
       "      <th>25%</th>\n",
       "      <td>0.082045</td>\n",
       "      <td>0.000000</td>\n",
       "      <td>5.190000</td>\n",
       "      <td>0.000000</td>\n",
       "      <td>0.449000</td>\n",
       "      <td>5.885500</td>\n",
       "      <td>45.025000</td>\n",
       "      <td>2.100175</td>\n",
       "      <td>4.000000</td>\n",
       "      <td>279.000000</td>\n",
       "      <td>17.400000</td>\n",
       "      <td>375.377500</td>\n",
       "      <td>6.950000</td>\n",
       "    </tr>\n",
       "    <tr>\n",
       "      <th>50%</th>\n",
       "      <td>0.256510</td>\n",
       "      <td>0.000000</td>\n",
       "      <td>9.690000</td>\n",
       "      <td>0.000000</td>\n",
       "      <td>0.538000</td>\n",
       "      <td>6.208500</td>\n",
       "      <td>77.500000</td>\n",
       "      <td>3.207450</td>\n",
       "      <td>5.000000</td>\n",
       "      <td>330.000000</td>\n",
       "      <td>19.050000</td>\n",
       "      <td>391.440000</td>\n",
       "      <td>11.360000</td>\n",
       "    </tr>\n",
       "    <tr>\n",
       "      <th>75%</th>\n",
       "      <td>3.647423</td>\n",
       "      <td>12.500000</td>\n",
       "      <td>18.100000</td>\n",
       "      <td>0.000000</td>\n",
       "      <td>0.624000</td>\n",
       "      <td>6.623500</td>\n",
       "      <td>94.075000</td>\n",
       "      <td>5.188425</td>\n",
       "      <td>24.000000</td>\n",
       "      <td>666.000000</td>\n",
       "      <td>20.200000</td>\n",
       "      <td>396.225000</td>\n",
       "      <td>16.955000</td>\n",
       "    </tr>\n",
       "    <tr>\n",
       "      <th>max</th>\n",
       "      <td>88.976200</td>\n",
       "      <td>100.000000</td>\n",
       "      <td>27.740000</td>\n",
       "      <td>1.000000</td>\n",
       "      <td>0.871000</td>\n",
       "      <td>8.780000</td>\n",
       "      <td>100.000000</td>\n",
       "      <td>12.126500</td>\n",
       "      <td>24.000000</td>\n",
       "      <td>711.000000</td>\n",
       "      <td>22.000000</td>\n",
       "      <td>396.900000</td>\n",
       "      <td>37.970000</td>\n",
       "    </tr>\n",
       "  </tbody>\n",
       "</table>\n",
       "</div>"
      ],
      "text/plain": [
       "             CRIM          ZN       INDUS        CHAS         NOX          RM  \\\n",
       "count  506.000000  506.000000  506.000000  506.000000  506.000000  506.000000   \n",
       "mean     3.593761   11.363636   11.136779    0.069170    0.554695    6.284634   \n",
       "std      8.596783   23.322453    6.860353    0.253994    0.115878    0.702617   \n",
       "min      0.006320    0.000000    0.460000    0.000000    0.385000    3.561000   \n",
       "25%      0.082045    0.000000    5.190000    0.000000    0.449000    5.885500   \n",
       "50%      0.256510    0.000000    9.690000    0.000000    0.538000    6.208500   \n",
       "75%      3.647423   12.500000   18.100000    0.000000    0.624000    6.623500   \n",
       "max     88.976200  100.000000   27.740000    1.000000    0.871000    8.780000   \n",
       "\n",
       "              AGE         DIS         RAD         TAX     PTRATIO           B  \\\n",
       "count  506.000000  506.000000  506.000000  506.000000  506.000000  506.000000   \n",
       "mean    68.574901    3.795043    9.549407  408.237154   18.455534  356.674032   \n",
       "std     28.148861    2.105710    8.707259  168.537116    2.164946   91.294864   \n",
       "min      2.900000    1.129600    1.000000  187.000000   12.600000    0.320000   \n",
       "25%     45.025000    2.100175    4.000000  279.000000   17.400000  375.377500   \n",
       "50%     77.500000    3.207450    5.000000  330.000000   19.050000  391.440000   \n",
       "75%     94.075000    5.188425   24.000000  666.000000   20.200000  396.225000   \n",
       "max    100.000000   12.126500   24.000000  711.000000   22.000000  396.900000   \n",
       "\n",
       "            LSTAT  \n",
       "count  506.000000  \n",
       "mean    12.653063  \n",
       "std      7.141062  \n",
       "min      1.730000  \n",
       "25%      6.950000  \n",
       "50%     11.360000  \n",
       "75%     16.955000  \n",
       "max     37.970000  "
      ]
     },
     "execution_count": 24,
     "metadata": {},
     "output_type": "execute_result"
    }
   ],
   "source": [
    "bos_dataframe.describe()"
   ]
  },
  {
   "cell_type": "code",
   "execution_count": 25,
   "metadata": {
    "collapsed": true
   },
   "outputs": [],
   "source": [
    "#normalize data\n",
    "#for each feature, calculate the mean and the maximum\n",
    "for i in range(num_features):\n",
    "    feature_avg = np.mean(data[:,i])\n",
    "    feature_max = np.amax(data[:, i])\n",
    "    data[:, i] = (data[:, i] - feature_avg)/feature_max "
   ]
  },
  {
   "cell_type": "code",
   "execution_count": 32,
   "metadata": {},
   "outputs": [],
   "source": [
    "weights_init = np.random.uniform(low = -1, high = 1, size = num_features)\n",
    "bias_init = 0"
   ]
  },
  {
   "cell_type": "code",
   "execution_count": 28,
   "metadata": {},
   "outputs": [
    {
     "name": "stdout",
     "output_type": "stream",
     "text": [
      "[-0.24535855  0.72445734  0.81171527 -0.35671952 -0.80515547  0.48490625\n",
      "  0.78634461  0.79871992  0.51584962 -0.80675765 -0.13322602 -0.67397401\n",
      " -0.58536048]\n"
     ]
    }
   ],
   "source": [
    "print(weights_init)"
   ]
  },
  {
   "cell_type": "code",
   "execution_count": 29,
   "metadata": {
    "collapsed": true
   },
   "outputs": [],
   "source": [
    "def hypothesis(weights, bias):\n",
    "    #weighted sum + bias = predictions\n",
    "    return data.dot(weights) + np.repeat(bias, num_samples)"
   ]
  },
  {
   "cell_type": "code",
   "execution_count": 33,
   "metadata": {},
   "outputs": [
    {
     "data": {
      "text/plain": [
       "array([ -7.85398401e-01,  -4.17856756e-01,  -4.16524421e-01,\n",
       "        -5.61778408e-01,  -5.35579706e-01,  -5.26959724e-01,\n",
       "        -5.73557581e-01,  -4.39582366e-01,  -6.43168379e-01,\n",
       "        -4.54349712e-01,  -4.51459722e-01,  -4.28238757e-01,\n",
       "        -8.86800486e-01,  -2.62697589e-01,  -7.88586171e-02,\n",
       "        -3.24805500e-01,  -5.05578794e-01,  -2.23117268e-01,\n",
       "        -4.31910454e-01,  -2.94306684e-01,  -2.40521319e-01,\n",
       "        -1.59953415e-01,  -2.45018932e-01,  -2.04572254e-01,\n",
       "        -1.60709305e-01,  -9.96936150e-02,  -1.27709250e-01,\n",
       "        -7.11224668e-02,  -4.00959990e-02,  -7.14339383e-02,\n",
       "        -2.57347099e-01,  -1.44847983e-02,  -2.52556252e-01,\n",
       "        -1.72712771e-01,   6.24880960e-03,  -4.07147849e-01,\n",
       "        -4.75157364e-01,  -6.05726332e-01,  -7.25333611e-01,\n",
       "        -1.41820680e+00,  -1.39776099e+00,  -9.03823385e-01,\n",
       "        -9.20994500e-01,  -9.73531334e-01,  -7.24233952e-01,\n",
       "        -8.48240889e-01,  -9.31367616e-01,  -5.33703654e-01,\n",
       "        -7.39344847e-01,  -6.99689390e-01,  -9.28833820e-01,\n",
       "        -6.80394649e-01,  -9.42103658e-01,  -1.03420853e+00,\n",
       "        -1.05698800e+00,  -1.40654240e+00,  -1.37021947e+00,\n",
       "        -1.41589708e+00,  -6.00432106e-01,  -5.46176216e-01,\n",
       "        -4.60974516e-01,  -2.23943115e-01,  -2.74263483e-01,\n",
       "        -5.01916747e-01,  -6.15406453e-01,  -1.45043249e+00,\n",
       "        -1.48009873e+00,  -7.99461510e-01,  -7.88415219e-01,\n",
       "        -7.14143344e-01,  -7.07041891e-01,  -6.92633889e-01,\n",
       "        -7.02039272e-01,  -7.26977687e-01,  -6.13818823e-01,\n",
       "        -2.89541257e-01,  -9.61106819e-02,  -3.39502523e-01,\n",
       "        -2.76152455e-01,  -4.10295881e-01,  -8.01442014e-01,\n",
       "        -5.23569692e-01,  -8.66076912e-01,  -7.52659350e-01,\n",
       "        -7.02043092e-01,  -5.56444263e-01,  -8.27438991e-01,\n",
       "        -6.47523325e-01,  -3.48875820e-01,  -5.51002699e-01,\n",
       "        -6.31249181e-01,  -5.52917868e-01,  -5.73550390e-01,\n",
       "        -7.62436821e-01,  -4.33520912e-01,  -5.91816425e-01,\n",
       "        -6.71272892e-01,  -3.69636471e-01,  -7.05199418e-01,\n",
       "        -5.64530421e-01,  -3.80972910e-02,  -7.14057846e-02,\n",
       "         5.17137354e-01,  -9.22173452e-02,  -5.07868798e-02,\n",
       "        -1.10810313e-01,  -1.99834793e-01,  -1.34359452e-01,\n",
       "         2.51916826e-02,  -9.99829556e-02,  -3.63585749e-01,\n",
       "        -4.14829431e-02,  -1.25281137e-01,  -1.09989527e-01,\n",
       "        -5.30128335e-02,  -6.71058804e-02,  -1.84606596e-01,\n",
       "        -6.90141840e-02,  -1.82272305e-01,  -3.01841341e-01,\n",
       "        -2.39109164e-01,  -8.63820229e-02,  -9.46758284e-02,\n",
       "        -2.16437346e-01,  -7.12938213e-02,  -8.18083633e-02,\n",
       "        -2.70969043e-01,   2.25563202e-01,   3.20123026e-01,\n",
       "         1.79867585e-01,   3.95815014e-01,   3.80430941e-01,\n",
       "         4.35117201e-01,   3.02470197e-01,   4.81691525e-01,\n",
       "         2.88465910e-01,   2.52598983e-01,   3.40839313e-01,\n",
       "         1.61357159e-01,   2.24775627e-01,   8.18436460e-02,\n",
       "        -1.75465012e-01,   7.74710673e-01,  -2.08448730e-01,\n",
       "        -3.10361251e-01,   1.94790659e-01,   4.17668057e-01,\n",
       "        -3.16247175e-01,  -2.31088777e-01,  -4.74762792e-02,\n",
       "         1.35270924e-01,   1.91676045e-01,   1.08318482e+00,\n",
       "         2.72804449e-01,   1.18929649e+00,   1.45511942e+00,\n",
       "         4.99922603e-01,   2.98516154e-01,   2.46071035e-01,\n",
       "         3.44656120e-01,   1.23039693e+00,   3.13578818e-01,\n",
       "         1.35612210e+00,   1.32817807e+00,  -3.06043411e-03,\n",
       "         3.13660273e-01,   3.49012838e-01,   1.67153690e-01,\n",
       "         2.26565539e-01,   1.66601638e-01,   1.47427888e-01,\n",
       "         1.16541948e-01,  -5.13684172e-01,  -3.81726696e-01,\n",
       "        -5.53176338e-01,  -7.16600348e-01,  -7.12665566e-01,\n",
       "        -3.98321841e-01,  -3.80651536e-01,  -6.59067960e-01,\n",
       "        -4.53955501e-01,  -7.72987667e-01,  -3.49396264e-01,\n",
       "        -3.69420674e-01,  -6.33664957e-01,  -7.53171360e-01,\n",
       "        -6.22623732e-01,  -1.00539665e+00,  -1.03148731e+00,\n",
       "        -9.53478669e-01,  -1.01226615e+00,  -9.53868183e-01,\n",
       "        -9.32323934e-01,  -1.56692638e+00,  -1.45716234e+00,\n",
       "        -1.43685096e+00,  -1.48852273e+00,  -1.50041459e+00,\n",
       "        -1.49870417e+00,  -1.49914258e+00,  -1.47884344e+00,\n",
       "        -1.51318357e+00,  -1.54456123e+00,  -1.54656626e+00,\n",
       "        -1.52444330e+00,  -7.79571492e-01,  -4.77264405e-01,\n",
       "        -4.72028914e-01,   4.99226934e-01,   5.96414856e-01,\n",
       "         6.93161316e-01,   4.76892536e-01,   3.72189635e-01,\n",
       "        -6.15462924e-01,  -1.24556942e+00,  -5.53217115e-01,\n",
       "         4.80629282e-01,  -1.23968419e-01,   7.05050938e-01,\n",
       "         8.95882352e-01,   8.86104869e-01,   6.17486715e-01,\n",
       "         7.97435590e-01,  -1.42425798e-01,   6.12432610e-03,\n",
       "         6.47449388e-02,   9.40291606e-02,  -5.37893350e-02,\n",
       "        -5.26541741e-01,  -5.51396799e-01,  -3.29100430e-01,\n",
       "        -3.43885706e-02,   3.25234148e-02,  -2.18533682e-02,\n",
       "         7.97783204e-01,  -3.59674762e-01,   8.16848949e-01,\n",
       "        -7.87624247e-02,  -9.48875539e-01,  -7.64014884e-01,\n",
       "        -7.36087316e-01,  -7.12042200e-01,  -7.17608105e-01,\n",
       "        -9.84932539e-01,  -2.92153394e-01,  -5.02232646e-01,\n",
       "        -5.84901483e-01,  -1.87073240e-01,  -4.31106850e-01,\n",
       "        -6.61717100e-01,  -7.18297579e-01,  -6.75258624e-01,\n",
       "        -6.25974508e-01,  -5.63387351e-01,  -1.40281071e+00,\n",
       "        -1.58912040e+00,  -1.40821013e+00,  -4.52044714e-01,\n",
       "        -4.54122318e-01,  -4.72020666e-01,  -6.66298975e-01,\n",
       "        -5.24491131e-01,  -4.22376257e-01,  -5.88692739e-01,\n",
       "        -5.46662002e-01,  -9.44409252e-01,  -7.49476818e-01,\n",
       "        -6.97361917e-01,  -7.69887421e-01,   1.64614343e-01,\n",
       "        -9.65624273e-01,  -1.04670260e+00,  -6.98442077e-01,\n",
       "         3.41204733e-01,   2.30938110e-02,  -8.58864417e-01,\n",
       "         1.74817407e-01,   2.56805956e-04,  -1.06662052e+00,\n",
       "        -1.02299288e+00,  -6.24576024e-01,  -9.15855583e-01,\n",
       "         2.79747458e-01,  -7.78783732e-01,  -1.70864425e+00,\n",
       "        -1.38722390e+00,  -1.49477717e+00,  -1.04154144e+00,\n",
       "        -9.20679638e-01,  -1.10363499e+00,  -1.27126866e+00,\n",
       "        -1.26294058e+00,  -1.35227359e+00,  -7.37327991e-01,\n",
       "        -5.73479548e-01,  -5.31769776e-01,  -3.80989594e-01,\n",
       "        -5.35993497e-01,  -1.28340127e+00,  -1.33519468e+00,\n",
       "        -1.07840805e+00,  -8.26401020e-01,  -9.85938799e-01,\n",
       "        -8.96297897e-01,  -8.50103821e-01,  -7.99608921e-01,\n",
       "        -5.99005369e-01,  -6.63071783e-01,  -7.87160107e-02,\n",
       "        -2.86128679e-01,  -6.98560869e-01,  -4.22954244e-01,\n",
       "        -2.09715689e-01,  -1.61652750e-01,  -1.28552281e-01,\n",
       "        -2.94359724e-01,  -3.69893464e-01,  -4.35289647e-01,\n",
       "        -3.39239269e-01,  -4.63677107e-01,  -3.72217043e-01,\n",
       "        -3.50469074e-01,  -4.19734974e-01,  -3.00035330e-01,\n",
       "        -4.51588646e-01,  -6.19584881e-01,  -5.31060228e-01,\n",
       "        -5.55200523e-01,  -7.72226256e-01,  -7.54030133e-01,\n",
       "        -6.35743371e-01,  -1.23494471e+00,  -1.10950233e+00,\n",
       "        -4.64637610e-01,  -4.83676789e-01,  -5.89584460e-01,\n",
       "        -5.59970500e-01,  -4.41444568e-01,  -6.14316124e-01,\n",
       "        -5.75192559e-01,  -4.51963810e-01,  -9.88186954e-01,\n",
       "        -5.62063069e-01,  -8.01553860e-01,  -9.43769587e-01,\n",
       "        -5.00395914e-01,  -4.83443078e-01,  -1.23388424e+00,\n",
       "        -1.31678872e+00,  -9.04558167e-01,  -8.56244194e-01,\n",
       "        -8.24787923e-01,  -1.10005557e+00,  -1.21535477e+00,\n",
       "        -1.14598249e+00,  -1.08837429e+00,   2.15564760e+00,\n",
       "         2.23577879e+00,   2.18234022e+00,   1.15452424e+00,\n",
       "         1.35825450e+00,   1.27978413e+00,   1.30543058e+00,\n",
       "         2.19852387e+00,   2.48588643e+00,   1.19973553e+00,\n",
       "         1.23660559e+00,   1.45334372e+00,   1.37805370e+00,\n",
       "         2.41808075e+00,   2.41714745e+00,   1.28423724e+00,\n",
       "         2.23445151e+00,   6.22388513e-01,   4.48791779e-01,\n",
       "         1.12258139e+00,   9.33001511e-01,   1.02066070e+00,\n",
       "         8.06890393e-01,   9.27065947e-01,   3.84991460e-01,\n",
       "         9.67585671e-01,   9.38963537e-01,   9.26094245e-01,\n",
       "         7.41344415e-01,   6.84229634e-01,   6.58436449e-01,\n",
       "         5.23027793e-01,   7.51380746e-01,   9.94250076e-01,\n",
       "         1.09610099e+00,   1.00215550e+00,   8.27834883e-01,\n",
       "         1.09851617e+00,   1.03489727e+00,   1.13146098e+00,\n",
       "         1.06943406e+00,   1.03749309e+00,   5.31120918e-01,\n",
       "         7.13912400e-01,   7.57889008e-01,   1.00611596e+00,\n",
       "         1.08680583e+00,   8.44370078e-01,   5.68436443e-01,\n",
       "         4.72809632e-01,   7.85654433e-01,   1.24719727e+00,\n",
       "         9.72356411e-01,   1.36982648e+00,   1.50583400e+00,\n",
       "         1.58047266e+00,   1.16205977e+00,   1.10209544e+00,\n",
       "         8.14587677e-01,   1.42602770e+00,   1.50462964e+00,\n",
       "         1.07743759e+00,   1.12660390e+00,   1.40850773e+00,\n",
       "         1.30382071e+00,   1.25950262e+00,   1.17129576e+00,\n",
       "         1.51586712e+00,   1.46313070e+00,   1.51149302e+00,\n",
       "         1.34623135e+00,   1.38671210e+00,   1.35845552e+00,\n",
       "         1.51270050e+00,   1.49629056e+00,   1.54169469e+00,\n",
       "         1.51925498e+00,   1.60750726e+00,   1.60498434e+00,\n",
       "         1.46673597e+00,   1.66652396e+00,   1.55061919e+00,\n",
       "         1.17909506e+00,   9.29493084e-01,   8.46458083e-01,\n",
       "         1.09636638e+00,   1.18921173e+00,   1.13299019e+00,\n",
       "         1.18655789e+00,   1.64260980e+00,   1.26831132e+00,\n",
       "         1.14720054e+00,   1.10738980e+00,   1.26199701e+00,\n",
       "         1.80043010e+00,   1.24408854e+00,   1.13133322e+00,\n",
       "         1.25878618e+00,   1.75670871e+00,   1.65458516e+00,\n",
       "         1.69346406e+00,   1.65792475e+00,   1.26754180e+00,\n",
       "         1.08747507e+00,   1.38748186e+00,   1.16981317e+00,\n",
       "         1.10486728e+00,   1.26945862e+00,   9.34795601e-01,\n",
       "         8.90883086e-01,   1.67727375e+00,   1.10118982e+00,\n",
       "         8.12115557e-01,   7.17846562e-01,   1.02975766e+00,\n",
       "         1.15188809e+00,   1.01459078e+00,   1.06114404e+00,\n",
       "         1.07506480e+00,   1.09592730e+00,   1.06538736e+00,\n",
       "         8.87809933e-01,   1.06827886e+00,   1.05093988e+00,\n",
       "         9.64196710e-01,   1.14898574e+00,   1.19839228e+00,\n",
       "         7.87863852e-01,   7.95592211e-01,   9.33452623e-01,\n",
       "         1.03318566e+00,   8.65866516e-01,   5.00344047e-01,\n",
       "         5.05491046e-01,   4.09580489e-01,   5.92341928e-01,\n",
       "         5.56185768e-01,  -3.61447953e-01,  -4.84094754e-01,\n",
       "        -6.82560202e-01,  -3.94559507e-01,  -2.39167196e-01,\n",
       "        -2.64951246e-01,  -2.61765850e-01,  -1.65451622e-01,\n",
       "        -3.07808040e-01,  -2.68975752e-01,  -2.89139105e-02,\n",
       "        -5.82458471e-02,  -2.04698495e-01])"
      ]
     },
     "execution_count": 33,
     "metadata": {},
     "output_type": "execute_result"
    }
   ],
   "source": [
    "hypothesis(weights_init, bias_init)"
   ]
  },
  {
   "cell_type": "code",
   "execution_count": 36,
   "metadata": {},
   "outputs": [
    {
     "data": {
      "text/plain": [
       "299.49933639967065"
      ]
     },
     "execution_count": 36,
     "metadata": {},
     "output_type": "execute_result"
    }
   ],
   "source": [
    "def cost(weights, bias):\n",
    "    #MSE\n",
    "    return np.mean(np.square(hypothesis(weights, bias) - target))/2\n",
    "cost(weights_init, bias_init)"
   ]
  },
  {
   "cell_type": "code",
   "execution_count": 47,
   "metadata": {
    "collapsed": true
   },
   "outputs": [],
   "source": [
    "def gradient(weights, bias):\n",
    "    #for each weight, calculate gradient and store\n",
    "    weights_gradients = []\n",
    "    #index, value\n",
    "    for (weight_num, weight) in enumerate(weights):\n",
    "        grad = np.mean((hypothesis(weights,bias) - target) * data[:, weight_num])\n",
    "        weights_gradients.append(grad)\n",
    "    \n",
    "    weights_gradients = np.array(weights_gradients)\n",
    "    \n",
    "    bias_gradient = np.mean(hypothesis(weights, bias) - target)\n",
    "    \n",
    "    return (weights_gradients, bias_gradient)"
   ]
  },
  {
   "cell_type": "code",
   "execution_count": 48,
   "metadata": {
    "collapsed": true
   },
   "outputs": [],
   "source": [
    "LEARNING_RATE = 0.01\n",
    "\n",
    "def gradient_descent(weights, bias, num_epochs):\n",
    "    costs = []\n",
    "    \n",
    "    for i in range(num_epochs):\n",
    "        weights_gradients, bias_gradient = gradient(weights, bias)\n",
    "        #training\n",
    "        weights = weights - LEARNING_RATE * weights_gradients\n",
    "        bias = bias - LEARNING_RATE * bias_gradient\n",
    "        costs.append(cost(weights, bias))\n",
    "    \n",
    "    return costs, weights, bias"
   ]
  },
  {
   "cell_type": "code",
   "execution_count": 74,
   "metadata": {},
   "outputs": [],
   "source": [
    "costs, trained_weights, trained_bias = gradient_descent(weights_init, bias_init, 1000)"
   ]
  },
  {
   "cell_type": "code",
   "execution_count": 75,
   "metadata": {},
   "outputs": [
    {
     "data": {
      "text/plain": [
       "22.774816044195557"
      ]
     },
     "execution_count": 75,
     "metadata": {},
     "output_type": "execute_result"
    }
   ],
   "source": [
    "costs[-1]"
   ]
  },
  {
   "cell_type": "code",
   "execution_count": 72,
   "metadata": {},
   "outputs": [
    {
     "data": {
      "image/png": "[encoded data removed]",
      "text/plain": [
       "<matplotlib.figure.Figure at 0x11bbad198>"
      ]
     },
     "metadata": {},
     "output_type": "display_data"
    }
   ],
   "source": [
    "plt.plot(costs)\n",
    "plt.xlabel(\"Iteration #\")\n",
    "plt.ylabel(\"Cost\")\n",
    "plt.show()"
   ]
  },
  {
   "cell_type": "code",
   "execution_count": 73,
   "metadata": {},
   "outputs": [
    {
     "data": {
      "image/png": "[encoded data removed]",
      "text/plain": [
       "<matplotlib.figure.Figure at 0x11bbad128>"
      ]
     },
     "metadata": {},
     "output_type": "display_data"
    }
   ],
   "source": [
    "plt.scatter(target, hypothesis(trained_weights, trained_bias))\n",
    "plt.xlabel(\"Actual Prices\")\n",
    "plt.ylabel(\"Predicted Prices\")\n",
    "plt.show()"
   ]
  },
  {
   "cell_type": "code",
   "execution_count": 62,
   "metadata": {
    "collapsed": true
   },
   "outputs": [],
   "source": [
    "regr = linear_model.LinearRegression()"
   ]
  },
  {
   "cell_type": "code",
   "execution_count": 65,
   "metadata": {},
   "outputs": [
    {
     "name": "stdout",
     "output_type": "stream",
     "text": [
      "21.8977792177\n"
     ]
    }
   ],
   "source": [
    "regr.fit(data, target)\n",
    "print(mean_squared_error(target, regr.predict(data)))"
   ]
  },
  {
   "cell_type": "code",
   "execution_count": 89,
   "metadata": {},
   "outputs": [
    {
     "name": "stdout",
     "output_type": "stream",
     "text": [
      "(379, 13)\n",
      "(127, 13)\n"
     ]
    }
   ],
   "source": [
    "#test\n",
    "x_train, x_test, y_train, y_test = \\\n",
    "    train_test_split(data, target, test_size=0.25, random_state=5)\n",
    "print(x_train.shape)\n",
    "print(x_test.shape)"
   ]
  },
  {
   "cell_type": "code",
   "execution_count": 85,
   "metadata": {},
   "outputs": [
    {
     "name": "stdout",
     "output_type": "stream",
     "text": [
      "(379,)\n",
      "(127,)\n"
     ]
    }
   ],
   "source": [
    "print(y_train.shape)\n",
    "print(y_test.shape)"
   ]
  },
  {
   "cell_type": "code",
   "execution_count": 91,
   "metadata": {},
   "outputs": [
    {
     "data": {
      "text/plain": [
       "24.298105768439303"
      ]
     },
     "execution_count": 91,
     "metadata": {},
     "output_type": "execute_result"
    }
   ],
   "source": [
    "regr.fit(x_train, y_train)\n",
    "mean_squared_error(y_test, regr.predict(x_test))"
   ]
  },
  {
   "cell_type": "code",
   "execution_count": 92,
   "metadata": {},
   "outputs": [
    {
     "data": {
      "text/plain": [
       "21.51471273218505"
      ]
     },
     "execution_count": 92,
     "metadata": {},
     "output_type": "execute_result"
    }
   ],
   "source": [
    "mean_squared_error(y_train, regr.predict(x_train))"
   ]
  },
  {
   "cell_type": "code",
   "execution_count": 95,
   "metadata": {},
   "outputs": [
    {
     "data": {
      "image/png": "[encoded data removed]",
      "text/plain": [
       "<matplotlib.figure.Figure at 0x1201b7b00>"
      ]
     },
     "metadata": {},
     "output_type": "display_data"
    }
   ],
   "source": [
    "plt.scatter(y_test, regr.predict(x_test))\n",
    "plt.xlabel(\"Actual prices\")\n",
    "plt.ylabel(\"Predicted prices\")\n",
    "plt.show()"
   ]
  },
  {
   "cell_type": "code",
   "execution_count": null,
   "metadata": {
    "collapsed": true
   },
   "outputs": [],
   "source": []
  }
 ],
 "metadata": {
  "kernelspec": {
   "display_name": "Python 3",
   "language": "python",
   "name": "python3"
  },
  "language_info": {
   "codemirror_mode": {
    "name": "ipython",
    "version": 3
   },
   "file_extension": ".py",
   "mimetype": "text/x-python",
   "name": "python",
   "nbconvert_exporter": "python",
   "pygments_lexer": "ipython3",
   "version": "3.6.1"
  }
 },
 "nbformat": 4,
 "nbformat_minor": 2
}
